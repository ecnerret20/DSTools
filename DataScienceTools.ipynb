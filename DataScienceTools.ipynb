{
 "cells": [
  {
   "cell_type": "markdown",
   "id": "0bd4593a-d958-4907-85e9-11414a4bdeac",
   "metadata": {},
   "source": [
    "# Data Science and its Popular Tools"
   ]
  },
  {
   "cell_type": "markdown",
   "id": "a92c10c6-a544-4a62-bf8f-1770fe874217",
   "metadata": {},
   "source": [
    "# Introduction\n",
    "Data Science comprises of multidisciplinary approach from the field of computer science, statistics, and artificial intelligence to study, analyze huge amount of data from different sources to draw a meaningful insights for business, medicine, health, and research."
   ]
  },
  {
   "cell_type": "markdown",
   "id": "f301d822-98c6-4c50-9881-f3aafdf6d966",
   "metadata": {},
   "source": [
    "Below are some of popular and commonly used language for Data Science:\n",
    "1. Python\n",
    "1. SQL\n",
    "1. R\n",
    "1. Julia\n",
    "1. Java\n",
    "1. Scala\n",
    "1. SAS"
   ]
  },
  {
   "cell_type": "markdown",
   "id": "96d7899c-838a-4830-a0a1-1ad8fb1a6057",
   "metadata": {},
   "source": [
    "Commonly used libraries are follows\n",
    "\n",
    "Python:\n",
    "* Pandas\n",
    "* NumPy \n",
    "* TensorFlow\n",
    "* Keras\n",
    "* Seaborn\n",
    "* Mathplotlib\n",
    "\n",
    "R:\n",
    "* Dplyr\n",
    "* Cater\n",
    "* Stringr\n",
    "* Lattice\n",
    "* Plotly\n"
   ]
  },
  {
   "cell_type": "markdown",
   "id": "1632b5c0-4c1b-4a0d-9ef4-b64f19bfe5ed",
   "metadata": {},
   "source": [
    "|Data Science Tool Environment| Libraries for Analysis| Libraries for Visualization|\n",
    "|---|---|---|\n",
    "|Jupyter Notebook| Pandas, NumPy, TensoFlow| Mathplotlib, Seaborn|\n",
    "|R Studio| Cater, Stringr, Dply| Plotly, ggplot2|\n"
   ]
  },
  {
   "cell_type": "code",
   "execution_count": null,
   "id": "fdad6d48-8354-46cc-9306-28c99478afae",
   "metadata": {
    "tags": []
   },
   "outputs": [],
   "source": [
    "# Perform a basic aritmethic expression\n",
    "(1000 * 50 ) / 60"
   ]
  },
  {
   "cell_type": "code",
   "execution_count": null,
   "id": "19cfa351-a454-4295-b8b2-5cae0d8b142a",
   "metadata": {
    "tags": []
   },
   "outputs": [],
   "source": [
    "# A code that  multiply and add numbers\n",
    "(84 * 4) + 3"
   ]
  },
  {
   "cell_type": "code",
   "execution_count": null,
   "id": "a8078683-993e-4373-b8a8-28669f0c2175",
   "metadata": {
    "tags": []
   },
   "outputs": [],
   "source": [
    "# This code will convert minutes to hours\n",
    "min = 3600\n",
    "hours = min / 60\n",
    "print(hours)"
   ]
  },
  {
   "cell_type": "markdown",
   "id": "cf1a249d-b882-4b60-8f6f-f9ab54714c0c",
   "metadata": {},
   "source": [
    "**Objectives:**\n",
    "1. Define Data Science and its importance.\n",
    "1. Familiarize with the popular languages used for Data Science.\n",
    "1. Familiarize with commonly used tools Data Science.\n",
    "1. Learn to integrate different libraries for analysis and visualization."
   ]
  },
  {
   "cell_type": "markdown",
   "id": "216418dc-9bc4-4138-a04f-a65cd6fffb0f",
   "metadata": {},
   "source": [
    "## Author\n",
    "Terrence Sumague"
   ]
  }
 ],
 "metadata": {
  "kernelspec": {
   "display_name": "Python",
   "language": "python",
   "name": "conda-env-python-py"
  },
  "language_info": {
   "codemirror_mode": {
    "name": "ipython",
    "version": 3
   },
   "file_extension": ".py",
   "mimetype": "text/x-python",
   "name": "python",
   "nbconvert_exporter": "python",
   "pygments_lexer": "ipython3",
   "version": "3.7.12"
  }
 },
 "nbformat": 4,
 "nbformat_minor": 5
}
